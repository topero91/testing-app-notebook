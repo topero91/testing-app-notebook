{
 "cells": [
  {
   "cell_type": "code",
   "execution_count": 6,
   "metadata": {},
   "outputs": [
    {
     "name": "stdout",
     "output_type": "stream",
     "text": [
      "Requirement already satisfied: fastai2 in c:\\users\\alexx\\anaconda3\\lib\\site-packages (0.0.17)\n",
      "Requirement already satisfied: fastprogress>=0.1.22 in c:\\users\\alexx\\anaconda3\\lib\\site-packages (from fastai2) (0.2.2)\n",
      "Requirement already satisfied: torchvision>=0.5 in c:\\users\\alexx\\anaconda3\\lib\\site-packages (from fastai2) (0.6.0)\n",
      "Requirement already satisfied: pyyaml in c:\\users\\alexx\\anaconda3\\lib\\site-packages (from fastai2) (5.3)\n",
      "Requirement already satisfied: scipy in c:\\users\\alexx\\anaconda3\\lib\\site-packages (from fastai2) (1.4.1)\n",
      "Requirement already satisfied: matplotlib in c:\\users\\alexx\\anaconda3\\lib\\site-packages (from fastai2) (3.1.3)\n",
      "Requirement already satisfied: torch>=1.3.0 in c:\\users\\alexx\\anaconda3\\lib\\site-packages (from fastai2) (1.5.0)\n",
      "Requirement already satisfied: requests in c:\\users\\alexx\\anaconda3\\lib\\site-packages (from fastai2) (2.22.0)\n",
      "Requirement already satisfied: scikit-learn in c:\\users\\alexx\\anaconda3\\lib\\site-packages (from fastai2) (0.22.1)\n",
      "Requirement already satisfied: pandas in c:\\users\\alexx\\anaconda3\\lib\\site-packages (from fastai2) (1.0.1)\n",
      "Requirement already satisfied: spacy in c:\\users\\alexx\\anaconda3\\lib\\site-packages (from fastai2) (2.1.8)\n",
      "Requirement already satisfied: fastcore in c:\\users\\alexx\\anaconda3\\lib\\site-packages (from fastai2) (0.1.17)\n",
      "Requirement already satisfied: pillow in c:\\users\\alexx\\anaconda3\\lib\\site-packages (from fastai2) (7.0.0)\n",
      "Requirement already satisfied: numpy in c:\\users\\alexx\\anaconda3\\lib\\site-packages (from torchvision>=0.5->fastai2) (1.18.1)\n",
      "Requirement already satisfied: pyparsing!=2.0.4,!=2.1.2,!=2.1.6,>=2.0.1 in c:\\users\\alexx\\anaconda3\\lib\\site-packages (from matplotlib->fastai2) (2.4.6)\n",
      "Requirement already satisfied: kiwisolver>=1.0.1 in c:\\users\\alexx\\anaconda3\\lib\\site-packages (from matplotlib->fastai2) (1.1.0)\n",
      "Requirement already satisfied: cycler>=0.10 in c:\\users\\alexx\\anaconda3\\lib\\site-packages (from matplotlib->fastai2) (0.10.0)\n",
      "Requirement already satisfied: python-dateutil>=2.1 in c:\\users\\alexx\\anaconda3\\lib\\site-packages (from matplotlib->fastai2) (2.8.1)\n",
      "Requirement already satisfied: future in c:\\users\\alexx\\anaconda3\\lib\\site-packages (from torch>=1.3.0->fastai2) (0.18.2)\n",
      "Requirement already satisfied: idna<2.9,>=2.5 in c:\\users\\alexx\\anaconda3\\lib\\site-packages (from requests->fastai2) (2.8)\n",
      "Requirement already satisfied: certifi>=2017.4.17 in c:\\users\\alexx\\anaconda3\\lib\\site-packages (from requests->fastai2) (2019.11.28)\n",
      "Requirement already satisfied: chardet<3.1.0,>=3.0.2 in c:\\users\\alexx\\anaconda3\\lib\\site-packages (from requests->fastai2) (3.0.4)\n",
      "Requirement already satisfied: urllib3!=1.25.0,!=1.25.1,<1.26,>=1.21.1 in c:\\users\\alexx\\anaconda3\\lib\\site-packages (from requests->fastai2) (1.24.3)\n",
      "Requirement already satisfied: joblib>=0.11 in c:\\users\\alexx\\anaconda3\\lib\\site-packages (from scikit-learn->fastai2) (0.14.1)\n",
      "Requirement already satisfied: pytz>=2017.2 in c:\\users\\alexx\\anaconda3\\lib\\site-packages (from pandas->fastai2) (2019.3)\n",
      "Requirement already satisfied: murmurhash<1.1.0,>=0.28.0 in c:\\users\\alexx\\anaconda3\\lib\\site-packages (from spacy->fastai2) (1.0.2)\n",
      "Requirement already satisfied: cymem<2.1.0,>=2.0.2 in c:\\users\\alexx\\anaconda3\\lib\\site-packages (from spacy->fastai2) (2.0.2)\n",
      "Requirement already satisfied: wasabi<1.1.0,>=0.2.0 in c:\\users\\alexx\\anaconda3\\lib\\site-packages (from spacy->fastai2) (0.2.2)\n",
      "Requirement already satisfied: srsly<1.1.0,>=0.0.6 in c:\\users\\alexx\\anaconda3\\lib\\site-packages (from spacy->fastai2) (0.1.0)\n",
      "Requirement already satisfied: thinc<7.1.0,>=7.0.8 in c:\\users\\alexx\\anaconda3\\lib\\site-packages (from spacy->fastai2) (7.0.8)\n",
      "Requirement already satisfied: preshed<2.1.0,>=2.0.1 in c:\\users\\alexx\\anaconda3\\lib\\site-packages (from spacy->fastai2) (2.0.1)\n",
      "Requirement already satisfied: plac<1.0.0,>=0.9.6 in c:\\users\\alexx\\anaconda3\\lib\\site-packages (from spacy->fastai2) (0.9.6)\n",
      "Requirement already satisfied: blis<0.3.0,>=0.2.2 in c:\\users\\alexx\\anaconda3\\lib\\site-packages (from spacy->fastai2) (0.2.4)\n",
      "Requirement already satisfied: setuptools in c:\\users\\alexx\\anaconda3\\lib\\site-packages (from kiwisolver>=1.0.1->matplotlib->fastai2) (45.2.0.post20200210)\n",
      "Requirement already satisfied: six in c:\\users\\alexx\\anaconda3\\lib\\site-packages (from cycler>=0.10->matplotlib->fastai2) (1.14.0)\n",
      "Requirement already satisfied: tqdm<5.0.0,>=4.10.0 in c:\\users\\alexx\\anaconda3\\lib\\site-packages (from thinc<7.1.0,>=7.0.8->spacy->fastai2) (4.42.1)\n",
      "Requirement already satisfied: nbdev in c:\\users\\alexx\\anaconda3\\lib\\site-packages (0.2.18)\n",
      "Requirement already satisfied: pyyaml in c:\\users\\alexx\\anaconda3\\lib\\site-packages (from nbdev) (5.3)\n",
      "Requirement already satisfied: nbformat>=4.4.0 in c:\\users\\alexx\\anaconda3\\lib\\site-packages (from nbdev) (5.0.4)\n",
      "Requirement already satisfied: packaging in c:\\users\\alexx\\anaconda3\\lib\\site-packages (from nbdev) (20.1)\n",
      "Requirement already satisfied: fastscript in c:\\users\\alexx\\anaconda3\\lib\\site-packages (from nbdev) (0.1.4)\n",
      "Requirement already satisfied: nbconvert>=5.6.1 in c:\\users\\alexx\\anaconda3\\lib\\site-packages (from nbdev) (5.6.1)\n",
      "Requirement already satisfied: jsonschema!=2.5.0,>=2.4 in c:\\users\\alexx\\anaconda3\\lib\\site-packages (from nbformat>=4.4.0->nbdev) (3.2.0)\n",
      "Requirement already satisfied: ipython-genutils in c:\\users\\alexx\\anaconda3\\lib\\site-packages (from nbformat>=4.4.0->nbdev) (0.2.0)\n",
      "Requirement already satisfied: traitlets>=4.1 in c:\\users\\alexx\\anaconda3\\lib\\site-packages (from nbformat>=4.4.0->nbdev) (4.3.3)\n",
      "Requirement already satisfied: jupyter-core in c:\\users\\alexx\\anaconda3\\lib\\site-packages (from nbformat>=4.4.0->nbdev) (4.6.1)\n",
      "Requirement already satisfied: six in c:\\users\\alexx\\anaconda3\\lib\\site-packages (from packaging->nbdev) (1.14.0)\n",
      "Requirement already satisfied: pyparsing>=2.0.2 in c:\\users\\alexx\\anaconda3\\lib\\site-packages (from packaging->nbdev) (2.4.6)\n",
      "Requirement already satisfied: pygments in c:\\users\\alexx\\anaconda3\\lib\\site-packages (from nbconvert>=5.6.1->nbdev) (2.5.2)\n",
      "Requirement already satisfied: bleach in c:\\users\\alexx\\anaconda3\\lib\\site-packages (from nbconvert>=5.6.1->nbdev) (3.1.0)\n",
      "Requirement already satisfied: pandocfilters>=1.4.1 in c:\\users\\alexx\\anaconda3\\lib\\site-packages (from nbconvert>=5.6.1->nbdev) (1.4.2)\n",
      "Requirement already satisfied: mistune<2,>=0.8.1 in c:\\users\\alexx\\anaconda3\\lib\\site-packages (from nbconvert>=5.6.1->nbdev) (0.8.4)\n",
      "Requirement already satisfied: testpath in c:\\users\\alexx\\anaconda3\\lib\\site-packages (from nbconvert>=5.6.1->nbdev) (0.4.4)\n",
      "Requirement already satisfied: defusedxml in c:\\users\\alexx\\anaconda3\\lib\\site-packages (from nbconvert>=5.6.1->nbdev) (0.6.0)\n",
      "Requirement already satisfied: jinja2>=2.4 in c:\\users\\alexx\\anaconda3\\lib\\site-packages (from nbconvert>=5.6.1->nbdev) (2.11.1)\n",
      "Requirement already satisfied: entrypoints>=0.2.2 in c:\\users\\alexx\\anaconda3\\lib\\site-packages (from nbconvert>=5.6.1->nbdev) (0.3)\n",
      "Requirement already satisfied: setuptools in c:\\users\\alexx\\anaconda3\\lib\\site-packages (from jsonschema!=2.5.0,>=2.4->nbformat>=4.4.0->nbdev) (45.2.0.post20200210)\n",
      "Requirement already satisfied: pyrsistent>=0.14.0 in c:\\users\\alexx\\anaconda3\\lib\\site-packages (from jsonschema!=2.5.0,>=2.4->nbformat>=4.4.0->nbdev) (0.15.7)\n",
      "Requirement already satisfied: attrs>=17.4.0 in c:\\users\\alexx\\anaconda3\\lib\\site-packages (from jsonschema!=2.5.0,>=2.4->nbformat>=4.4.0->nbdev) (19.3.0)\n",
      "Requirement already satisfied: importlib-metadata; python_version < \"3.8\" in c:\\users\\alexx\\anaconda3\\lib\\site-packages (from jsonschema!=2.5.0,>=2.4->nbformat>=4.4.0->nbdev) (1.5.0)\n",
      "Requirement already satisfied: decorator in c:\\users\\alexx\\anaconda3\\lib\\site-packages (from traitlets>=4.1->nbformat>=4.4.0->nbdev) (4.4.1)\n",
      "Requirement already satisfied: pywin32>=1.0; sys_platform == \"win32\" in c:\\users\\alexx\\anaconda3\\lib\\site-packages (from jupyter-core->nbformat>=4.4.0->nbdev) (227)\n",
      "Requirement already satisfied: webencodings in c:\\users\\alexx\\anaconda3\\lib\\site-packages (from bleach->nbconvert>=5.6.1->nbdev) (0.5.1)\n",
      "Requirement already satisfied: MarkupSafe>=0.23 in c:\\users\\alexx\\anaconda3\\lib\\site-packages (from jinja2>=2.4->nbconvert>=5.6.1->nbdev) (1.1.1)\n",
      "Requirement already satisfied: zipp>=0.5 in c:\\users\\alexx\\anaconda3\\lib\\site-packages (from importlib-metadata; python_version < \"3.8\"->jsonschema!=2.5.0,>=2.4->nbformat>=4.4.0->nbdev) (2.2.0)\n"
     ]
    },
    {
     "name": "stdout",
     "output_type": "stream",
     "text": [
      "Collecting azure\n",
      "  Using cached azure-5.0.0.zip (4.6 kB)\n"
     ]
    },
    {
     "name": "stderr",
     "output_type": "stream",
     "text": [
      "    ERROR: Command errored out with exit status 1:\n",
      "     command: 'C:\\Users\\alexx\\anaconda3\\python.exe' -c 'import sys, setuptools, tokenize; sys.argv[0] = '\"'\"'C:\\\\Users\\\\alexx\\\\AppData\\\\Local\\\\Temp\\\\pip-install-4x4dkqpg\\\\azure\\\\setup.py'\"'\"'; __file__='\"'\"'C:\\\\Users\\\\alexx\\\\AppData\\\\Local\\\\Temp\\\\pip-install-4x4dkqpg\\\\azure\\\\setup.py'\"'\"';f=getattr(tokenize, '\"'\"'open'\"'\"', open)(__file__);code=f.read().replace('\"'\"'\\r\\n'\"'\"', '\"'\"'\\n'\"'\"');f.close();exec(compile(code, __file__, '\"'\"'exec'\"'\"'))' egg_info --egg-base 'C:\\Users\\alexx\\AppData\\Local\\Temp\\pip-install-4x4dkqpg\\azure\\pip-egg-info'\n",
      "         cwd: C:\\Users\\alexx\\AppData\\Local\\Temp\\pip-install-4x4dkqpg\\azure\\\n",
      "    Complete output (24 lines):\n",
      "    Traceback (most recent call last):\n",
      "      File \"<string>\", line 1, in <module>\n",
      "      File \"C:\\Users\\alexx\\AppData\\Local\\Temp\\pip-install-4x4dkqpg\\azure\\setup.py\", line 60, in <module>\n",
      "        raise RuntimeError(message)\n",
      "    RuntimeError:\n",
      "    \n",
      "    Starting with v5.0.0, the 'azure' meta-package is deprecated and cannot be installed anymore.\n",
      "    Please install the service specific packages prefixed by `azure` needed for your application.\n",
      "    \n",
      "    The complete list of available packages can be found at:\n",
      "    https://aka.ms/azsdk/python/all\n",
      "    \n",
      "    Here's a non-exhaustive list of common packages:\n",
      "    \n",
      "    -  azure-mgmt-compute (https://pypi.python.org/pypi/azure-mgmt-compute) : Management of Virtual Machines, etc.\n",
      "    -  azure-mgmt-storage (https://pypi.python.org/pypi/azure-mgmt-storage) : Management of storage accounts.\n",
      "    -  azure-mgmt-resource (https://pypi.python.org/pypi/azure-mgmt-resource) : Generic package about Azure Resource Management (ARM)\n",
      "    -  azure-keyvault-secrets (https://pypi.python.org/pypi/azure-keyvault-secrets) : Access to secrets in Key Vault\n",
      "    -  azure-storage-blob (https://pypi.python.org/pypi/azure-storage-blob) : Access to blobs in storage accounts\n",
      "    \n",
      "    A more comprehensive discussion of the rationale for this decision can be found in the following issue:\n",
      "    https://github.com/Azure/azure-sdk-for-python/issues/10646\n",
      "    \n",
      "    \n",
      "    ----------------------------------------\n",
      "ERROR: Command errored out with exit status 1: python setup.py egg_info Check the logs for full command output.\n"
     ]
    },
    {
     "name": "stdout",
     "output_type": "stream",
     "text": [
      "Requirement already satisfied: azure-cognitiveservices-search-imagesearch in c:\\users\\alexx\\anaconda3\\lib\\site-packages (2.0.0)\n",
      "Requirement already satisfied: msrest>=0.5.0 in c:\\users\\alexx\\anaconda3\\lib\\site-packages (from azure-cognitiveservices-search-imagesearch) (0.6.16)\n",
      "Requirement already satisfied: msrestazure<2.0.0,>=0.4.32 in c:\\users\\alexx\\anaconda3\\lib\\site-packages (from azure-cognitiveservices-search-imagesearch) (0.6.3)\n",
      "Requirement already satisfied: azure-common~=1.1 in c:\\users\\alexx\\anaconda3\\lib\\site-packages (from azure-cognitiveservices-search-imagesearch) (1.1.25)\n",
      "Requirement already satisfied: requests~=2.16 in c:\\users\\alexx\\anaconda3\\lib\\site-packages (from msrest>=0.5.0->azure-cognitiveservices-search-imagesearch) (2.22.0)\n",
      "Requirement already satisfied: isodate>=0.6.0 in c:\\users\\alexx\\anaconda3\\lib\\site-packages (from msrest>=0.5.0->azure-cognitiveservices-search-imagesearch) (0.6.0)\n",
      "Requirement already satisfied: requests-oauthlib>=0.5.0 in c:\\users\\alexx\\anaconda3\\lib\\site-packages (from msrest>=0.5.0->azure-cognitiveservices-search-imagesearch) (1.3.0)\n",
      "Requirement already satisfied: certifi>=2017.4.17 in c:\\users\\alexx\\anaconda3\\lib\\site-packages (from msrest>=0.5.0->azure-cognitiveservices-search-imagesearch) (2019.11.28)\n",
      "Requirement already satisfied: adal<2.0.0,>=0.6.0 in c:\\users\\alexx\\anaconda3\\lib\\site-packages (from msrestazure<2.0.0,>=0.4.32->azure-cognitiveservices-search-imagesearch) (1.2.4)\n",
      "Requirement already satisfied: chardet<3.1.0,>=3.0.2 in c:\\users\\alexx\\anaconda3\\lib\\site-packages (from requests~=2.16->msrest>=0.5.0->azure-cognitiveservices-search-imagesearch) (3.0.4)\n",
      "Requirement already satisfied: idna<2.9,>=2.5 in c:\\users\\alexx\\anaconda3\\lib\\site-packages (from requests~=2.16->msrest>=0.5.0->azure-cognitiveservices-search-imagesearch) (2.8)\n",
      "Requirement already satisfied: urllib3!=1.25.0,!=1.25.1,<1.26,>=1.21.1 in c:\\users\\alexx\\anaconda3\\lib\\site-packages (from requests~=2.16->msrest>=0.5.0->azure-cognitiveservices-search-imagesearch) (1.24.3)\n",
      "Requirement already satisfied: six in c:\\users\\alexx\\anaconda3\\lib\\site-packages (from isodate>=0.6.0->msrest>=0.5.0->azure-cognitiveservices-search-imagesearch) (1.14.0)\n",
      "Requirement already satisfied: oauthlib>=3.0.0 in c:\\users\\alexx\\anaconda3\\lib\\site-packages (from requests-oauthlib>=0.5.0->msrest>=0.5.0->azure-cognitiveservices-search-imagesearch) (3.1.0)\n",
      "Requirement already satisfied: PyJWT>=1.0.0 in c:\\users\\alexx\\anaconda3\\lib\\site-packages (from adal<2.0.0,>=0.6.0->msrestazure<2.0.0,>=0.4.32->azure-cognitiveservices-search-imagesearch) (1.7.1)\n",
      "Requirement already satisfied: python-dateutil>=2.1.0 in c:\\users\\alexx\\anaconda3\\lib\\site-packages (from adal<2.0.0,>=0.6.0->msrestazure<2.0.0,>=0.4.32->azure-cognitiveservices-search-imagesearch) (2.8.1)\n",
      "Requirement already satisfied: cryptography>=1.1.0 in c:\\users\\alexx\\anaconda3\\lib\\site-packages (from adal<2.0.0,>=0.6.0->msrestazure<2.0.0,>=0.4.32->azure-cognitiveservices-search-imagesearch) (2.8)\n",
      "Requirement already satisfied: cffi!=1.11.3,>=1.8 in c:\\users\\alexx\\anaconda3\\lib\\site-packages (from cryptography>=1.1.0->adal<2.0.0,>=0.6.0->msrestazure<2.0.0,>=0.4.32->azure-cognitiveservices-search-imagesearch) (1.14.0)\n",
      "Requirement already satisfied: pycparser in c:\\users\\alexx\\anaconda3\\lib\\site-packages (from cffi!=1.11.3,>=1.8->cryptography>=1.1.0->adal<2.0.0,>=0.6.0->msrestazure<2.0.0,>=0.4.32->azure-cognitiveservices-search-imagesearch) (2.19)\n",
      "Collecting graphviz\n",
      "  Downloading graphviz-0.14-py2.py3-none-any.whl (18 kB)\n",
      "Installing collected packages: graphviz\n",
      "Successfully installed graphviz-0.14\n"
     ]
    }
   ],
   "source": [
    "!pip install fastai2\n",
    "!pip install nbdev\n",
    "!pip install azure\n",
    "!pip install azure-cognitiveservices-search-imagesearch\n",
    "!pip install graphviz\n",
    "from utils import *\n",
    "from fastai2.vision.widgets import *"
   ]
  },
  {
   "cell_type": "code",
   "execution_count": 13,
   "metadata": {},
   "outputs": [
    {
     "ename": "NotImplementedError",
     "evalue": "cannot instantiate 'PosixPath' on your system",
     "output_type": "error",
     "traceback": [
      "\u001b[1;31m---------------------------------------------------------------------------\u001b[0m",
      "\u001b[1;31mNotImplementedError\u001b[0m                       Traceback (most recent call last)",
      "\u001b[1;32m<ipython-input-13-9c1e2f151912>\u001b[0m in \u001b[0;36m<module>\u001b[1;34m\u001b[0m\n\u001b[0;32m      1\u001b[0m \u001b[0mpath\u001b[0m \u001b[1;33m=\u001b[0m \u001b[0mPath\u001b[0m\u001b[1;33m(\u001b[0m\u001b[1;33m)\u001b[0m\u001b[1;33m\u001b[0m\u001b[1;33m\u001b[0m\u001b[0m\n\u001b[1;32m----> 2\u001b[1;33m \u001b[0mlearn_inf\u001b[0m \u001b[1;33m=\u001b[0m \u001b[0mload_learner\u001b[0m\u001b[1;33m(\u001b[0m\u001b[0mpath\u001b[0m\u001b[1;33m/\u001b[0m\u001b[1;34m'export.pkl'\u001b[0m\u001b[1;33m)\u001b[0m\u001b[1;33m\u001b[0m\u001b[1;33m\u001b[0m\u001b[0m\n\u001b[0m",
      "\u001b[1;32m~\\anaconda3\\lib\\site-packages\\fastai2\\learner.py\u001b[0m in \u001b[0;36mload_learner\u001b[1;34m(fname, cpu)\u001b[0m\n\u001b[0;32m    518\u001b[0m     \u001b[1;34m\"Load a `Learner` object in `fname`, optionally putting it on the `cpu`\"\u001b[0m\u001b[1;33m\u001b[0m\u001b[1;33m\u001b[0m\u001b[0m\n\u001b[0;32m    519\u001b[0m     \u001b[0mdistrib_barrier\u001b[0m\u001b[1;33m(\u001b[0m\u001b[1;33m)\u001b[0m\u001b[1;33m\u001b[0m\u001b[1;33m\u001b[0m\u001b[0m\n\u001b[1;32m--> 520\u001b[1;33m     \u001b[0mres\u001b[0m \u001b[1;33m=\u001b[0m \u001b[0mtorch\u001b[0m\u001b[1;33m.\u001b[0m\u001b[0mload\u001b[0m\u001b[1;33m(\u001b[0m\u001b[0mfname\u001b[0m\u001b[1;33m,\u001b[0m \u001b[0mmap_location\u001b[0m\u001b[1;33m=\u001b[0m\u001b[1;34m'cpu'\u001b[0m \u001b[1;32mif\u001b[0m \u001b[0mcpu\u001b[0m \u001b[1;32melse\u001b[0m \u001b[1;32mNone\u001b[0m\u001b[1;33m)\u001b[0m\u001b[1;33m\u001b[0m\u001b[1;33m\u001b[0m\u001b[0m\n\u001b[0m\u001b[0;32m    521\u001b[0m     \u001b[1;32mif\u001b[0m \u001b[0mhasattr\u001b[0m\u001b[1;33m(\u001b[0m\u001b[0mres\u001b[0m\u001b[1;33m,\u001b[0m \u001b[1;34m'to_fp32'\u001b[0m\u001b[1;33m)\u001b[0m\u001b[1;33m:\u001b[0m \u001b[0mres\u001b[0m \u001b[1;33m=\u001b[0m \u001b[0mres\u001b[0m\u001b[1;33m.\u001b[0m\u001b[0mto_fp32\u001b[0m\u001b[1;33m(\u001b[0m\u001b[1;33m)\u001b[0m\u001b[1;33m\u001b[0m\u001b[1;33m\u001b[0m\u001b[0m\n\u001b[0;32m    522\u001b[0m     \u001b[1;32mif\u001b[0m \u001b[0mcpu\u001b[0m\u001b[1;33m:\u001b[0m \u001b[0mres\u001b[0m\u001b[1;33m.\u001b[0m\u001b[0mdls\u001b[0m\u001b[1;33m.\u001b[0m\u001b[0mcpu\u001b[0m\u001b[1;33m(\u001b[0m\u001b[1;33m)\u001b[0m\u001b[1;33m\u001b[0m\u001b[1;33m\u001b[0m\u001b[0m\n",
      "\u001b[1;32m~\\anaconda3\\lib\\site-packages\\torch\\serialization.py\u001b[0m in \u001b[0;36mload\u001b[1;34m(f, map_location, pickle_module, **pickle_load_args)\u001b[0m\n\u001b[0;32m    591\u001b[0m                     \u001b[1;32mreturn\u001b[0m \u001b[0mtorch\u001b[0m\u001b[1;33m.\u001b[0m\u001b[0mjit\u001b[0m\u001b[1;33m.\u001b[0m\u001b[0mload\u001b[0m\u001b[1;33m(\u001b[0m\u001b[0mf\u001b[0m\u001b[1;33m)\u001b[0m\u001b[1;33m\u001b[0m\u001b[1;33m\u001b[0m\u001b[0m\n\u001b[0;32m    592\u001b[0m                 \u001b[1;32mreturn\u001b[0m \u001b[0m_load\u001b[0m\u001b[1;33m(\u001b[0m\u001b[0mopened_zipfile\u001b[0m\u001b[1;33m,\u001b[0m \u001b[0mmap_location\u001b[0m\u001b[1;33m,\u001b[0m \u001b[0mpickle_module\u001b[0m\u001b[1;33m,\u001b[0m \u001b[1;33m**\u001b[0m\u001b[0mpickle_load_args\u001b[0m\u001b[1;33m)\u001b[0m\u001b[1;33m\u001b[0m\u001b[1;33m\u001b[0m\u001b[0m\n\u001b[1;32m--> 593\u001b[1;33m         \u001b[1;32mreturn\u001b[0m \u001b[0m_legacy_load\u001b[0m\u001b[1;33m(\u001b[0m\u001b[0mopened_file\u001b[0m\u001b[1;33m,\u001b[0m \u001b[0mmap_location\u001b[0m\u001b[1;33m,\u001b[0m \u001b[0mpickle_module\u001b[0m\u001b[1;33m,\u001b[0m \u001b[1;33m**\u001b[0m\u001b[0mpickle_load_args\u001b[0m\u001b[1;33m)\u001b[0m\u001b[1;33m\u001b[0m\u001b[1;33m\u001b[0m\u001b[0m\n\u001b[0m\u001b[0;32m    594\u001b[0m \u001b[1;33m\u001b[0m\u001b[0m\n\u001b[0;32m    595\u001b[0m \u001b[1;33m\u001b[0m\u001b[0m\n",
      "\u001b[1;32m~\\anaconda3\\lib\\site-packages\\torch\\serialization.py\u001b[0m in \u001b[0;36m_legacy_load\u001b[1;34m(f, map_location, pickle_module, **pickle_load_args)\u001b[0m\n\u001b[0;32m    771\u001b[0m     \u001b[0munpickler\u001b[0m \u001b[1;33m=\u001b[0m \u001b[0mpickle_module\u001b[0m\u001b[1;33m.\u001b[0m\u001b[0mUnpickler\u001b[0m\u001b[1;33m(\u001b[0m\u001b[0mf\u001b[0m\u001b[1;33m,\u001b[0m \u001b[1;33m**\u001b[0m\u001b[0mpickle_load_args\u001b[0m\u001b[1;33m)\u001b[0m\u001b[1;33m\u001b[0m\u001b[1;33m\u001b[0m\u001b[0m\n\u001b[0;32m    772\u001b[0m     \u001b[0munpickler\u001b[0m\u001b[1;33m.\u001b[0m\u001b[0mpersistent_load\u001b[0m \u001b[1;33m=\u001b[0m \u001b[0mpersistent_load\u001b[0m\u001b[1;33m\u001b[0m\u001b[1;33m\u001b[0m\u001b[0m\n\u001b[1;32m--> 773\u001b[1;33m     \u001b[0mresult\u001b[0m \u001b[1;33m=\u001b[0m \u001b[0munpickler\u001b[0m\u001b[1;33m.\u001b[0m\u001b[0mload\u001b[0m\u001b[1;33m(\u001b[0m\u001b[1;33m)\u001b[0m\u001b[1;33m\u001b[0m\u001b[1;33m\u001b[0m\u001b[0m\n\u001b[0m\u001b[0;32m    774\u001b[0m \u001b[1;33m\u001b[0m\u001b[0m\n\u001b[0;32m    775\u001b[0m     \u001b[0mdeserialized_storage_keys\u001b[0m \u001b[1;33m=\u001b[0m \u001b[0mpickle_module\u001b[0m\u001b[1;33m.\u001b[0m\u001b[0mload\u001b[0m\u001b[1;33m(\u001b[0m\u001b[0mf\u001b[0m\u001b[1;33m,\u001b[0m \u001b[1;33m**\u001b[0m\u001b[0mpickle_load_args\u001b[0m\u001b[1;33m)\u001b[0m\u001b[1;33m\u001b[0m\u001b[1;33m\u001b[0m\u001b[0m\n",
      "\u001b[1;32m~\\anaconda3\\lib\\pathlib.py\u001b[0m in \u001b[0;36m__new__\u001b[1;34m(cls, *args, **kwargs)\u001b[0m\n\u001b[0;32m   1023\u001b[0m         \u001b[1;32mif\u001b[0m \u001b[1;32mnot\u001b[0m \u001b[0mself\u001b[0m\u001b[1;33m.\u001b[0m\u001b[0m_flavour\u001b[0m\u001b[1;33m.\u001b[0m\u001b[0mis_supported\u001b[0m\u001b[1;33m:\u001b[0m\u001b[1;33m\u001b[0m\u001b[1;33m\u001b[0m\u001b[0m\n\u001b[0;32m   1024\u001b[0m             raise NotImplementedError(\"cannot instantiate %r on your system\"\n\u001b[1;32m-> 1025\u001b[1;33m                                       % (cls.__name__,))\n\u001b[0m\u001b[0;32m   1026\u001b[0m         \u001b[0mself\u001b[0m\u001b[1;33m.\u001b[0m\u001b[0m_init\u001b[0m\u001b[1;33m(\u001b[0m\u001b[1;33m)\u001b[0m\u001b[1;33m\u001b[0m\u001b[1;33m\u001b[0m\u001b[0m\n\u001b[0;32m   1027\u001b[0m         \u001b[1;32mreturn\u001b[0m \u001b[0mself\u001b[0m\u001b[1;33m\u001b[0m\u001b[1;33m\u001b[0m\u001b[0m\n",
      "\u001b[1;31mNotImplementedError\u001b[0m: cannot instantiate 'PosixPath' on your system"
     ]
    }
   ],
   "source": [
    "path = Path()\n",
    "learn_inf = load_learner(path/'export.pkl')"
   ]
  },
  {
   "cell_type": "code",
   "execution_count": 21,
   "metadata": {},
   "outputs": [
    {
     "data": {
      "application/vnd.jupyter.widget-view+json": {
       "model_id": "3253358d6a044f30b1f4a2143b038f7e",
       "version_major": 2,
       "version_minor": 0
      },
      "text/plain": [
       "FileUpload(value={}, description='Upload')"
      ]
     },
     "metadata": {},
     "output_type": "display_data"
    }
   ],
   "source": [
    "btn_upload = widgets.FileUpload()\n",
    "\n",
    "img = PILImage.create(btn_upload.data[-1])\n",
    "out_pl = widgets.Output()\n",
    "out_pl.clear_output()\n",
    "with out_pl: \n",
    "    display(img.to_thumb(128,128))\n",
    "\n",
    "pred,pred_idx,probs = learn_inf.predict(img)\n",
    "lbl_pred = widgets.Label()\n",
    "lbl_pred.value = f'Prediction: {pred}; Probability: {probs[pred_idx]:.04f}'\n",
    "btn_run = widgets.Button(description='Classify')\n",
    "\n",
    "def on_click_classify(change):\n",
    "    img = PILImage.create(btn_upload.data[-1])\n",
    "    out_pl.clear_output()\n",
    "    with out_pl: display(img.to_thumb(128,128))\n",
    "    pred,pred_idx,probs = learn_inf.predict(img)\n",
    "    lbl_pred.value = f'Prediction: {pred}; Probability: {probs[pred_idx]:.04f}'\n",
    "\n",
    "btn_run.on_click(on_click_classify)\n",
    "btn_upload = widgets.FileUpload()\n",
    "\n",
    "VBox([widgets.Label('Select your bear!'), \n",
    "      btn_upload, btn_run, out_pl, lbl_pred])"
   ]
  },
  {
   "cell_type": "code",
   "execution_count": null,
   "metadata": {},
   "outputs": [],
   "source": []
  }
 ],
 "metadata": {
  "kernelspec": {
   "display_name": "Python 3",
   "language": "python",
   "name": "python3"
  },
  "language_info": {
   "codemirror_mode": {
    "name": "ipython",
    "version": 3
   },
   "file_extension": ".py",
   "mimetype": "text/x-python",
   "name": "python",
   "nbconvert_exporter": "python",
   "pygments_lexer": "ipython3",
   "version": "3.7.6"
  }
 },
 "nbformat": 4,
 "nbformat_minor": 4
}
